{
 "cells": [
  {
   "attachments": {},
   "cell_type": "markdown",
   "metadata": {},
   "source": [
    "## 0) Importando arquivos"
   ]
  },
  {
   "cell_type": "code",
   "execution_count": null,
   "metadata": {},
   "outputs": [],
   "source": [
    "import pandas as pd\n",
    "import matplotlib.pyplot as plt\n",
    "from matplotlib.pyplot import figure\n",
    "import seaborn as sns"
   ]
  },
  {
   "attachments": {},
   "cell_type": "markdown",
   "metadata": {},
   "source": [
    "## 1) Lendo o arquivo"
   ]
  },
  {
   "attachments": {},
   "cell_type": "markdown",
   "metadata": {},
   "source": [
    "turbina = pd.read_csv('T1.csv')\n",
    "turbina.columns = ['Data/Hora', 'Potência(kW)', 'VelocidadeVento(m/s)', 'CurvaTeórica(KW/h)', 'DireçaoVento(°)' ]\n",
    "del turbina['DireçaoVento(°)']\n",
    "turbina['Data/Hora'] = pd.to_datetime(turbina['Data/Hora'])\n",
    "display(turbina)"
   ]
  },
  {
   "attachments": {},
   "cell_type": "markdown",
   "metadata": {},
   "source": [
    "## 2) Plotando os dados em um gráfico - Real"
   ]
  },
  {
   "cell_type": "code",
   "execution_count": null,
   "metadata": {},
   "outputs": [],
   "source": [
    "sns.scatterplot(data = turbina, x = 'VelocidadeVento(m/s)', y = 'Potência(kW)')"
   ]
  },
  {
   "attachments": {},
   "cell_type": "markdown",
   "metadata": {},
   "source": [
    "## 3) Plotando os dados em um gráfico - Teórica"
   ]
  },
  {
   "cell_type": "code",
   "execution_count": null,
   "metadata": {},
   "outputs": [],
   "source": [
    "sns.scatterplot(data = turbina, x = 'VelocidadeVento(m/s)', y = 'CurvaTeórica(KW/h)')"
   ]
  },
  {
   "attachments": {},
   "cell_type": "markdown",
   "metadata": {},
   "source": [
    "## 4) Criando \"limites aceitáveis\""
   ]
  },
  {
   "cell_type": "code",
   "execution_count": null,
   "metadata": {},
   "outputs": [],
   "source": [
    "potencia_real = turbina['Potência(kW)'].tolist()\n",
    "potencia_teorica = turbina['CurvaTeórica(KW/h)'].tolist()\n",
    "potencia_maxima = []\n",
    "potencia_minima = []\n",
    "dentro_limite = []\n",
    "\n",
    "for potencia in potencia_teorica:\n",
    "    potencia_maxima.append(potencia * 1.05)\n",
    "    potencia_minima.append(potencia * 0.95)\n",
    "\n",
    "\n",
    "for p, potencia in enumerate(potencia_real):\n",
    "    if potencia >= potencia_minima[p] and potencia <= potencia_maxima[p]:\n",
    "        dentro_limite.append('Dentro')\n",
    "    elif potencia == 0:\n",
    "        dentro_limite.append('Zero')\n",
    "    else:\n",
    "        dentro_limite.append('Fora')\n",
    "        \n",
    "print(dentro_limite.count('Dentro')/len(dentro_limite))"
   ]
  },
  {
   "attachments": {},
   "cell_type": "markdown",
   "metadata": {},
   "source": [
    "## 5) Adicionando lista \"dentro_limite\" ao dataframe"
   ]
  },
  {
   "cell_type": "code",
   "execution_count": null,
   "metadata": {},
   "outputs": [],
   "source": [
    "turbina['DentroLimite'] = dentro_limite\n",
    "display(turbina)"
   ]
  },
  {
   "attachments": {},
   "cell_type": "markdown",
   "metadata": {},
   "source": [
    "## 6) Plotando novamente o gráfico"
   ]
  },
  {
   "cell_type": "code",
   "execution_count": null,
   "metadata": {},
   "outputs": [],
   "source": [
    "cores = {'Dentro': 'blue', 'Fora': 'red', 'Zero': 'orange'}\n",
    "sns.scatterplot(data = turbina, x = 'VelocidadeVento(m/s)', y = 'Potência(kW)', hue = 'DentroLimite', s = 1, palette = cores)"
   ]
  }
 ],
 "metadata": {
  "language_info": {
   "name": "python"
  },
  "orig_nbformat": 4
 },
 "nbformat": 4,
 "nbformat_minor": 2
}
